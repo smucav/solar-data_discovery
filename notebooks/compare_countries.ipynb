{
 "cells": [
  {
   "cell_type": "code",
   "execution_count": null,
   "id": "d66ff986-b9c8-4454-b010-53766a3e2d05",
   "metadata": {},
   "outputs": [],
   "source": [
    "# Cross-Country Solar Potential Comparison\n",
    "\n",
    "This notebook synthesizes cleaned datasets from Benin, Sierra Leone, and Togo to compare solar potential (GHI, DNI, DHI). Visualizations, statistical tests, and a summary table highlight key differences to inform MoonLight Energy's investment decisions."
   ]
  },
  {
   "cell_type": "code",
   "execution_count": 6,
   "id": "ec116ce5-645f-462b-a864-c71e7a595a05",
   "metadata": {},
   "outputs": [],
   "source": [
    "import sys\n",
    "import os\n",
    "sys.path.append(os.path.abspath('..'))  # Adds project root to sys.path\n",
    "\n",
    "import pandas as pd\n",
    "from scripts.viz_utils import (\n",
    "    load_and_combine_data,\n",
    "    plot_metric_boxplots,\n",
    "    create_summary_table,\n",
    "    run_kruskal_wallis,\n",
    "    plot_ghi_ranking\n",
    ")\n",
    "\n",
    "# Load data\n",
    "df = load_and_combine_data(\n",
    "    '../data/benin_clean.csv',\n",
    "    '../data/sierraleone_clean.csv',\n",
    "    '../data/togo_clean.csv'\n",
    ")"
   ]
  },
  {
   "cell_type": "code",
   "execution_count": null,
   "id": "2fb69542-cb10-4423-9951-fe0ca0a356d6",
   "metadata": {},
   "outputs": [],
   "source": [
    "## Metric Comparison\n",
    "\n",
    "Boxplots visualize the distribution of GHI, DNI, and DHI across countries, highlighting variability and central tendencies."
   ]
  },
  {
   "cell_type": "code",
   "execution_count": null,
   "id": "8e19850d-ed7d-4985-b80a-c0c2d37f85f1",
   "metadata": {},
   "outputs": [],
   "source": [
    "# Plot boxplots\n",
    "plot_metric_boxplots(df, ['GHI', 'DNI', 'DHI'], 'figures/compare_boxplots.png')"
   ]
  },
  {
   "cell_type": "markdown",
   "id": "48468a19-ebb8-4477-8729-5c29c2d8abfe",
   "metadata": {},
   "source": [
    "![Boxplots](figures/compare_boxplots.png)"
   ]
  },
  {
   "cell_type": "code",
   "execution_count": null,
   "id": "dd10dfb6-58df-41bb-8941-0d1588b3813f",
   "metadata": {},
   "outputs": [],
   "source": [
    "## Summary Table\n",
    "\n",
    "The table below compares mean, median, and standard deviation of GHI, DNI, and DHI across countries."
   ]
  },
  {
   "cell_type": "code",
   "execution_count": 10,
   "id": "9e623e56-a5d1-4591-9694-dd70b50c7c74",
   "metadata": {},
   "outputs": [
    {
     "data": {
      "text/html": [
       "<div>\n",
       "<style scoped>\n",
       "    .dataframe tbody tr th:only-of-type {\n",
       "        vertical-align: middle;\n",
       "    }\n",
       "\n",
       "    .dataframe tbody tr th {\n",
       "        vertical-align: top;\n",
       "    }\n",
       "\n",
       "    .dataframe thead th {\n",
       "        text-align: right;\n",
       "    }\n",
       "</style>\n",
       "<table border=\"1\" class=\"dataframe\">\n",
       "  <thead>\n",
       "    <tr style=\"text-align: right;\">\n",
       "      <th></th>\n",
       "      <th>Country</th>\n",
       "      <th>GHI_Mean</th>\n",
       "      <th>GHI_Median</th>\n",
       "      <th>GHI_Std</th>\n",
       "      <th>DNI_Mean</th>\n",
       "      <th>DNI_Median</th>\n",
       "      <th>DNI_Std</th>\n",
       "      <th>DHI_Mean</th>\n",
       "      <th>DHI_Median</th>\n",
       "      <th>DHI_Std</th>\n",
       "    </tr>\n",
       "  </thead>\n",
       "  <tbody>\n",
       "    <tr>\n",
       "      <th>0</th>\n",
       "      <td>Benin</td>\n",
       "      <td>236.234508</td>\n",
       "      <td>0.7</td>\n",
       "      <td>328.288787</td>\n",
       "      <td>166.896673</td>\n",
       "      <td>-0.1</td>\n",
       "      <td>262.081997</td>\n",
       "      <td>111.656477</td>\n",
       "      <td>0.5</td>\n",
       "      <td>153.099749</td>\n",
       "    </tr>\n",
       "    <tr>\n",
       "      <th>1</th>\n",
       "      <td>Sierra Leone</td>\n",
       "      <td>185.000024</td>\n",
       "      <td>-0.4</td>\n",
       "      <td>279.019460</td>\n",
       "      <td>104.128943</td>\n",
       "      <td>-0.1</td>\n",
       "      <td>200.954182</td>\n",
       "      <td>108.104278</td>\n",
       "      <td>-0.6</td>\n",
       "      <td>153.691835</td>\n",
       "    </tr>\n",
       "    <tr>\n",
       "      <th>2</th>\n",
       "      <td>Togo</td>\n",
       "      <td>223.859675</td>\n",
       "      <td>0.5</td>\n",
       "      <td>317.306277</td>\n",
       "      <td>147.975931</td>\n",
       "      <td>0.0</td>\n",
       "      <td>247.683690</td>\n",
       "      <td>112.781249</td>\n",
       "      <td>1.5</td>\n",
       "      <td>151.571744</td>\n",
       "    </tr>\n",
       "  </tbody>\n",
       "</table>\n",
       "</div>"
      ],
      "text/plain": [
       "        Country    GHI_Mean  GHI_Median     GHI_Std    DNI_Mean  DNI_Median  \\\n",
       "0         Benin  236.234508         0.7  328.288787  166.896673        -0.1   \n",
       "1  Sierra Leone  185.000024        -0.4  279.019460  104.128943        -0.1   \n",
       "2          Togo  223.859675         0.5  317.306277  147.975931         0.0   \n",
       "\n",
       "      DNI_Std    DHI_Mean  DHI_Median     DHI_Std  \n",
       "0  262.081997  111.656477         0.5  153.099749  \n",
       "1  200.954182  108.104278        -0.6  153.691835  \n",
       "2  247.683690  112.781249         1.5  151.571744  "
      ]
     },
     "metadata": {},
     "output_type": "display_data"
    }
   ],
   "source": [
    "# Create and display summary table\n",
    "summary_table = create_summary_table(df, ['GHI', 'DNI', 'DHI'])\n",
    "display(summary_table)\n",
    "summary_table.to_csv('figures/summary_table.csv', index=False)"
   ]
  },
  {
   "cell_type": "code",
   "execution_count": null,
   "id": "d1619a39-f0b5-4cb2-a1d6-5a839260599f",
   "metadata": {},
   "outputs": [],
   "source": [
    "## Statistical Testing\n",
    "\n",
    "A Kruskal-Wallis test assesses whether GHI differences between countries are statistically significant. A p-value < 0.05 indicates significant differences."
   ]
  },
  {
   "cell_type": "code",
   "execution_count": 11,
   "id": "d1bdbb12-344e-4a5a-91c7-8a9c1bc1cbab",
   "metadata": {},
   "outputs": [
    {
     "name": "stdout",
     "output_type": "stream",
     "text": [
      "Kruskal-Wallis Test for GHI: Statistic = 6548.53, p-value = 0.0000\n"
     ]
    }
   ],
   "source": [
    "# Run Kruskal-Wallis test\n",
    "stat, p_value = run_kruskal_wallis(df, 'GHI')\n",
    "print(f\"Kruskal-Wallis Test for GHI: Statistic = {stat:.2f}, p-value = {p_value:.4f}\")"
   ]
  },
  {
   "cell_type": "code",
   "execution_count": null,
   "id": "bb42dc06-ead5-41cc-8cb3-1817d4aa6d55",
   "metadata": {
    "jp-MarkdownHeadingCollapsed": true
   },
   "outputs": [],
   "source": [
    "## Key Observations\n",
    "\n",
    "- Observation 1: [Replace with insight, e.g., \"Benin has the highest median GHI (e.g., 500 W/m²) but also the greatest variability (std: 150 W/m²), indicating inconsistent solar potential.\"]\n",
    "- Observation 2: [Replace with insight, e.g., \"Sierra Leone shows stable GHI (std: 100 W/m²), ideal for consistent energy production.\"]\n",
    "- Observation 3: [Replace with insight, e.g., \"Togo's lower DNI (median: 300 W/m²) suggests less suitability for concentrated solar power.\"]\n",
    "\n",
    "## Bonus: GHI Ranking\n",
    "\n",
    "A bar chart ranks countries by average GHI to highlight top solar potential."
   ]
  },
  {
   "cell_type": "code",
   "execution_count": 12,
   "id": "096e6f4e-4506-418c-a8c3-fda20995fbc0",
   "metadata": {},
   "outputs": [],
   "source": [
    "# Plot GHI ranking\n",
    "plot_ghi_ranking(df, 'figures/ghi_ranking.png')"
   ]
  },
  {
   "cell_type": "markdown",
   "id": "f73cbd24-199a-48b1-b1fa-31b0d56e98f3",
   "metadata": {},
   "source": [
    "![GHI Ranking](figures/ghi_ranking.png)"
   ]
  },
  {
   "cell_type": "code",
   "execution_count": null,
   "id": "d0c5ab8f-2f4f-49a9-86e5-05ab7ec0c419",
   "metadata": {},
   "outputs": [],
   "source": []
  }
 ],
 "metadata": {
  "kernelspec": {
   "display_name": "Python 3 (ipykernel)",
   "language": "python",
   "name": "python3"
  },
  "language_info": {
   "codemirror_mode": {
    "name": "ipython",
    "version": 3
   },
   "file_extension": ".py",
   "mimetype": "text/x-python",
   "name": "python",
   "nbconvert_exporter": "python",
   "pygments_lexer": "ipython3",
   "version": "3.12.3"
  }
 },
 "nbformat": 4,
 "nbformat_minor": 5
}
